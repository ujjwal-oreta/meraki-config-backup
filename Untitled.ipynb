{
 "cells": [
  {
   "cell_type": "code",
   "execution_count": 4,
   "id": "2532c5fb",
   "metadata": {},
   "outputs": [],
   "source": [
    "import json\n",
    "from azure.identity import DefaultAzureCredential\n",
    "from azure.storage.blob import BlobServiceClient, BlobClient, ContainerClient\n",
    "\n",
    "\n",
    "def get_blob_client():\n",
    "#     account_url = \"https://merakiconfigbackupappore.blob.core.windows.net\"\n",
    "    # default_credential = DefaultAzureCredential()\n",
    "    connection_str = 'DefaultEndpointsProtocol=https;AccountName=merakiconfigbackupappore;AccountKey=iSvnhKIYsIZQTByVBAqQ3nSqAdGJyXle8+wX+2nh5iAZxMT6hL+R96uMyEvRARCbp16gFCaO1Ac4+AStk+OwMQ==;EndpointSuffix=core.windows.net'\n",
    "    # blob_service_client = BlobServiceClient(account_url, credential=default_credential)\n",
    "    blob_service_client = BlobServiceClient.from_connection_string(connection_str)\n",
    "    return blob_service_client\n",
    "\n",
    "\n",
    "def create_container(blob_service_client, container_name):\n",
    "    container_client = blob_service_client.get_container_client(container=container_name)\n",
    "    if not container_client:\n",
    "        print(container_name)\n",
    "        container_client = blob_service_client.create_container(container_name)\n",
    "    return container_client\n",
    "\n",
    "\n",
    "def dump_data(file_location, data):\n",
    "    blob_client = get_blob_client()\n",
    "    container_name = 'config-output'\n",
    "    container_client = create_container(blob_client, container_name)\n",
    "    upload_blob(container_client, file_location, data)\n",
    "\n",
    "\n",
    "def upload_blob(container_client, file_location, data):\n",
    "    container_client.upload_blob(name=file_location, data=json.dumps(data))\n"
   ]
  },
  {
   "cell_type": "code",
   "execution_count": 5,
   "id": "83b5cb8e",
   "metadata": {},
   "outputs": [
    {
     "data": {
      "text/plain": [
       "<azure.storage.blob._blob_service_client.BlobServiceClient at 0x2479ad59be0>"
      ]
     },
     "execution_count": 5,
     "metadata": {},
     "output_type": "execute_result"
    }
   ],
   "source": [
    "get_blob_client()"
   ]
  },
  {
   "cell_type": "code",
   "execution_count": 6,
   "id": "d18b1359",
   "metadata": {},
   "outputs": [],
   "source": [
    "dump_data('random_location', {'A': 1})"
   ]
  },
  {
   "cell_type": "code",
   "execution_count": null,
   "id": "3b0f8b08",
   "metadata": {},
   "outputs": [],
   "source": []
  }
 ],
 "metadata": {
  "kernelspec": {
   "display_name": "Python 3 (ipykernel)",
   "language": "python",
   "name": "python3"
  },
  "language_info": {
   "codemirror_mode": {
    "name": "ipython",
    "version": 3
   },
   "file_extension": ".py",
   "mimetype": "text/x-python",
   "name": "python",
   "nbconvert_exporter": "python",
   "pygments_lexer": "ipython3",
   "version": "3.9.13"
  }
 },
 "nbformat": 4,
 "nbformat_minor": 5
}
